{
 "cells": [
  {
   "cell_type": "code",
   "execution_count": null,
   "metadata": {},
   "outputs": [],
   "source": [
    "# Passo 1 -> importar a base de dados:\n",
    "import pandas as pd\n",
    "tabela = pd.read_csv(\"cancelamentos.csv\")\n",
    "\n",
    "# Passo 2 -> visualizar a base de dados\n",
    "tabela = tabela.drop(\"CustomerID\", axis=1)  # .drop -> para excluir uma linha (axis=0) ou coluna (axis=1)\n",
    "display(tabela)\n"
   ]
  },
  {
   "cell_type": "code",
   "execution_count": null,
   "metadata": {},
   "outputs": [],
   "source": [
    "# Passo 3 -> tratamento de erros (resolver os problemas da base de dados):\n",
    "# tratar valores vazios\n",
    "display(tabela.info())\n",
    "tabela = tabela.dropna()    # .dropna -> para excluir linhas vazias\n",
    "display(tabela.info())"
   ]
  },
  {
   "cell_type": "code",
   "execution_count": null,
   "metadata": {},
   "outputs": [],
   "source": [
    "# Passo 4 -> análise inicial dos dados (entender como estão os cancelamentos):\n",
    "display(tabela[\"cancelou\"].value_counts())    # .value_counts() -> para contar os valores\n",
    "display(tabela[\"cancelou\"].value_counts(normalize=True).map(\"{:.1%}\".format))     # normalize=True -> para mostrar o percentual"
   ]
  },
  {
   "cell_type": "code",
   "execution_count": null,
   "metadata": {},
   "outputs": [],
   "source": [
    "display(tabela.groupby(\"duracao_contrato\").mean(numeric_only=True))     # .groupby(\"duracao_contrato\").mean() -> agrupou e fez a media de cada categorias da tabela\n",
    "display(tabela[\"duracao_contrato\"].value_counts())"
   ]
  },
  {
   "cell_type": "code",
   "execution_count": null,
   "metadata": {},
   "outputs": [],
   "source": [
    "# Contrato mensal sempre cancela:\n",
    "tabela = tabela[tabela[\"duracao_contrato\"] != \"Monthly\"]\n",
    "\n",
    "# Verificando como fica o cancelamento sem os contratos mensais:\n",
    "display(tabela[\"cancelou\"].value_counts())\n",
    "display(tabela[\"cancelou\"].value_counts(normalize=True).map(\"{:.1%}\".format))"
   ]
  },
  {
   "cell_type": "code",
   "execution_count": null,
   "metadata": {},
   "outputs": [],
   "source": [
    "display(tabela[\"assinatura\"].value_counts(normalize=True))\n",
    "display(tabela.groupby(\"assinatura\").mean(numeric_only=True))"
   ]
  },
  {
   "cell_type": "code",
   "execution_count": null,
   "metadata": {},
   "outputs": [],
   "source": [
    "# Passo 5 -> Ánalise profunda da base de dados (encontrando a causa dos cancelamentos)\n",
    "import plotly.express as px\n",
    "\n",
    "for coluna in tabela.columns:\n",
    "    grafico = px.histogram(tabela, x=coluna, color=\"cancelou\", text_auto=True)\n",
    "    grafico.show()"
   ]
  },
  {
   "cell_type": "code",
   "execution_count": null,
   "metadata": {},
   "outputs": [],
   "source": [
    "# Ligações call center a parti de 5, cancelam:\n",
    "tabela = tabela[tabela[\"ligacoes_callcenter\"] < 5]\n",
    "Python Insights\n",
    "# Dias de atraso, a partir de 21, cancelam:\n",
    "tabela = tabela[tabela[\"dias_atraso\"] <= 20]\n",
    "\n",
    "# Verificando como fica o cancelamento:\n",
    "display(tabela[\"cancelou\"].value_counts())\n",
    "display(tabela[\"cancelou\"].value_counts(normalize=True).map(\"{:.1%}\".format))"
   ]
  },
  {
   "cell_type": "code",
   "execution_count": null,
   "metadata": {},
   "outputs": [],
   "source": [
    "# Forma de pagamento -> mensal\n",
    "# Dias de atrasos -> 20 dias\n",
    "# Ligações de call center >= 5"
   ]
  }
 ],
 "metadata": {
  "kernelspec": {
   "display_name": "Python 3",
   "language": "python",
   "name": "python3"
  },
  "language_info": {
   "codemirror_mode": {
    "name": "ipython",
    "version": 3
   },
   "file_extension": ".py",
   "mimetype": "text/x-python",
   "name": "python",
   "nbconvert_exporter": "python",
   "pygments_lexer": "ipython3",
   "version": "3.11.2"
  },
  "orig_nbformat": 4
 },
 "nbformat": 4,
 "nbformat_minor": 2
}
